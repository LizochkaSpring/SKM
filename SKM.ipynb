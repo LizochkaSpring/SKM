{
  "nbformat": 4,
  "nbformat_minor": 0,
  "metadata": {
    "colab": {
      "provenance": []
    },
    "kernelspec": {
      "name": "python3",
      "display_name": "Python 3"
    },
    "language_info": {
      "name": "python"
    }
  },
  "cells": [
    {
      "cell_type": "markdown",
      "source": [
        "Вариант 23  \n",
        "\n",
        "Выполнила Соловьева Елизавета \n",
        "## Плохая обусловленность метода Кардано:\n",
        "[Каханер–Моулер–Нэш]\n",
        "\n",
        "Рассмотрим знаменитые формулы для решения кубического уравнения - *формулы Кардано*,\n",
        "которые правильнее было бы называть *формулами Ферро-Тартальи-Кардано-Фиора*.\n",
        "\n",
        "Рассмотрим кубическое уравнение $y^3+ay^2+by+c=0$, где все коэффициенты и неизвестная $y$ в общем случае комплексные.\n",
        "\n",
        "После замены $y = x-\\frac{a}{3}$ в уравнении третьей степени\n",
        "$y^3+ay^2+by+c=0$ исчезает член с квадратом неизвестной $y$.\n",
        "Уравнение примет вид\n",
        "$$\n",
        "x^3+px+q=0.\n",
        "$$ \n",
        "Его решения можно найти в виде \n",
        "$$\n",
        "x=\\alpha + \\beta,\n",
        "$$ \n",
        "где $\\alpha$, $\\beta$ --- некоторые\n",
        "комплексные числа, \n",
        "$$\n",
        "\\alpha=\\sqrt[3]{-\\frac{q}{2}+\\sqrt{\\frac{q^2}{4}+\\frac{p^3}{27}}},\n",
        "\\qquad\n",
        "\\beta=\\sqrt[3]{-\\frac{q}{2}-\\sqrt{\\frac{q^2}{4}+\\frac{p^3}{27}}}.\n",
        "$$\n",
        "Среди всевозможных комбинаций $\\alpha$, $\\beta$, получаемых при подстановке всех значений корней кубических,\n",
        "необходимо выбрать лишь те,\n",
        "которые удовлетворяют условию $3\\alpha\\beta+p=0$. \n",
        "Легко видеть, что если $\\alpha \\ne 0$ и $\\beta\\ne 0$, то\n",
        "таким образом будет получено $3$ решения: для каждого из трех значений $\\alpha$ можно определить единственное $\\beta$. \n",
        "\n",
        "Реализуйте метод Кардано для нахождения корней кубического уравнения $y^3+ay^2+by+c=0$.\n",
        "Написанная вами функция `y1, y2, y3 = cardano(a,b,c)` должна работать как для уравнений\n",
        "с вещественными, так и комплексными коэффициентами.\n",
        "Воспользуйтесь этим методом для нахождения вещественного корня уравнения\n",
        "$$\n",
        "y^3 +3y^2 +\\lambda^2y+3\\lambda^2 = 0\n",
        "$$\n",
        "при различных $\\lambda$.\n",
        "Исследуйте потерю точности из-за ошибок округления при больших $\\lambda$\n",
        "(в частности, для $\\lambda$ порядка величины, обратной машинному эпсилон).\n",
        "\n",
        "Сравните результаты с теми, которые получаются методом Брента `scipy.optimize.brentq` и методом Ньютона `scipy.optimize.newton`.\n",
        "## Решение:\n",
        "Подключим необходимые библиотеки:"
      ],
      "metadata": {
        "id": "XNSmcEjP1_H2"
      }
    },
    {
      "cell_type": "code",
      "source": [
        "import sys\n",
        "import numpy as np\n",
        "import matplotlib.pyplot as plt\n",
        "import scipy.optimize as opt\n",
        "from scipy.special import cbrt"
      ],
      "metadata": {
        "id": "051OliXS36so"
      },
      "execution_count": null,
      "outputs": []
    },
    {
      "cell_type": "markdown",
      "source": [
        "Дано кубичесткое уравнение вида:\n",
        "\n",
        "$$\n",
        "ax^3+bx^2+cx+d=0, a!=0\n",
        "$$\n",
        "\n",
        "Корни:\n",
        "$$\n",
        "x_1=\\alpha+\\beta-\\frac{b}{3a}\\\\\n",
        "x_2=-\\frac{\\alpha+\\beta}{2}-\\frac{b}{3a}-\\frac{i\\sqrt{3}}{3a}(\\alpha-\\beta)\\\\\n",
        "x_3=-\\frac{\\alpha+\\beta}{2}-\\frac{b}{3a}+\\frac{i\\sqrt{3}}{3a}(\\alpha-\\beta)\n",
        "$$\n",
        "\n",
        "где:\n",
        "\n",
        "$$\n",
        "\\alpha=\\sqrt[3]{-\\frac{q}{2}+\\sqrt{\\frac{q^2}{4}+\\frac{p^3}{27}}},\n",
        "\\qquad\n",
        "\\beta=\\sqrt[3]{-\\frac{q}{2}-\\sqrt{\\frac{q^2}{4}+\\frac{p^3}{27}}}\n",
        "$$\n",
        "\n",
        "$$\n",
        "Q=\\frac{3ac-b^2}{9a^2}\\qquad R=\\frac{9abc-27a^2d-2b^3}{54a^3}\n",
        "$$\n",
        "$$\n",
        "D=Q^3+R^2 - дискриминант\n",
        "$$\n",
        "Если $$D>0$$, то один действительный корень, два комплексных.\n",
        "\n",
        "Если$$D<=0$$, то все корни действительные.\n"
      ],
      "metadata": {
        "id": "oE6GZeYP4C1J"
      }
    },
    {
      "cell_type": "code",
      "source": [
        "def cardano(a, b, c, d):\n",
        "    if a == 0:\n",
        "        raise ValueError('Параметр a != 0')\n",
        "    x = (3*a*c - b**2)/ (9*a**2)\n",
        "    k = (9*a*b*c - 27*a**2*d - 2*b**3) / (54 * a**3)\n",
        "    D = ((3*a*c - b**2)/ (9*a**2))**3 +((9*a*b*c - 27*a**2*d - 2*b**3) / (54 * a**3))**2 \n",
        "    alf = cbrt(((9*a*b*c - 27*a**2*d - 2*b**3) / (54 * a**3)) + np.sqrt(D))\n",
        "    beta = cbrt(((9*a*b*c - 27*a**2*d - 2*b**3) / (54 * a**3)) - np.sqrt(D)) \n",
        "    if D > 0:\n",
        "        t = 0.5j * np.sqrt(3) * (alf - beta)\n",
        "    else:\n",
        "        t = 0.5 * np.sqrt(3) * (alf - beta)\n",
        "    y_0 = - b / (3 * a) + (alf + beta)\n",
        "    y_1 = - b / (3 * a)  - (alf + beta) / 2 + t\n",
        "    y_2 = - b / (3 * a)  - (alf + beta) / 2 -  t\n",
        "    return y_0, y_1, y_2 "
      ],
      "metadata": {
        "id": "zAWYltKSC_u5"
      },
      "execution_count": 13,
      "outputs": []
    },
    {
      "cell_type": "markdown",
      "source": [
        "Функция машинного эпсилона"
      ],
      "metadata": {
        "id": "zqSOYLgYDPOf"
      }
    },
    {
      "cell_type": "code",
      "source": [
        "def get_eps():\n",
        "    return sys.float_info.epsilon"
      ],
      "metadata": {
        "id": "IT9ZzImGDVKZ"
      },
      "execution_count": 14,
      "outputs": []
    },
    {
      "cell_type": "code",
      "source": [
        "get_eps()"
      ],
      "metadata": {
        "colab": {
          "base_uri": "https://localhost:8080/"
        },
        "id": "uQLFGGLADYxq",
        "outputId": "0eff2ac9-edef-4313-b71d-a2e52af4bed6"
      },
      "execution_count": 15,
      "outputs": [
        {
          "output_type": "execute_result",
          "data": {
            "text/plain": [
              "2.220446049250313e-16"
            ]
          },
          "metadata": {},
          "execution_count": 15
        }
      ]
    },
    {
      "cell_type": "markdown",
      "source": [
        "Сравним с:\n",
        "\n",
        "$$\n",
        "y^3 +3y^2 +\\lambda^2y+3\\lambda^2 = 0\n",
        "$$"
      ],
      "metadata": {
        "id": "dnN2xwPFDfKH"
      }
    },
    {
      "cell_type": "code",
      "source": [
        "def f(y, a):\n",
        "    return y**3 + 3*y**2 + a**2*y + 3*a**2;"
      ],
      "metadata": {
        "id": "UHvCMkQUDzA6"
      },
      "execution_count": 5,
      "outputs": []
    },
    {
      "cell_type": "markdown",
      "source": [
        "График:"
      ],
      "metadata": {
        "id": "TVksXagZD4DD"
      }
    },
    {
      "cell_type": "code",
      "source": [
        "y_min = 0\n",
        "y_max = 0\n",
        "xx = np.linspace(0, 1./get_eps(), 1000) # Из-за неточности формулы используем маленькие числа для проверки \n",
        "for x in xx: \n",
        "    y0 = cardano(1, 3, x**2, 3*x**2)[0]\n",
        "    y = f(y0, x)\n",
        "    if y != 0:\n",
        "        y_max = max(y_max, y)\n",
        "        y_min = min(y_min, y)\n",
        "        plt.scatter(x, y, c = 'orange', s = 5)\n",
        "plt.ylim(bottom = y_min, top = y_max)\n",
        "plt.show()\n",
        "print('Ymin = {0}'.format(y_min))\n",
        "print('Ymax = {0}'.format(y_max))"
      ],
      "metadata": {
        "colab": {
          "base_uri": "https://localhost:8080/",
          "height": 498
        },
        "id": "934kIUieD8TK",
        "outputId": "86125366-95a8-477f-ca0a-3cb7fff83b0d"
      },
      "execution_count": 16,
      "outputs": [
        {
          "output_type": "display_data",
          "data": {
            "text/plain": [
              "<Figure size 640x480 with 1 Axes>"
            ],
            "image/png": "[encoded data removed]"
          },
          "metadata": {}
        },
        {
          "output_type": "stream",
          "name": "stdout",
          "text": [
            "Ymin = -9.074489322305807e+30\n",
            "Ymax = 1.0120912251027543e+31\n"
          ]
        }
      ]
    },
    {
      "cell_type": "markdown",
      "source": [
        "Сравнение эффективости метода Кардано с методами Брента и Ньютона:"
      ],
      "metadata": {
        "id": "cN_xjlkoEWiz"
      }
    },
    {
      "cell_type": "code",
      "source": [
        "y_max = 0\n",
        "y_min = 0\n",
        "x_all=[]\n",
        "y_all=[]\n",
        "x__all=[]\n",
        "x____all=[]\n",
        "xx = np.linspace(0,  1./get_eps(), 300)\n",
        "\n",
        "for x in xx: \n",
        "    expression = lambda _x:f(_x, x)\n",
        "\n",
        "    cardano_y = f(cardano(1, 3, x**2, 3*x**2)[0], x)\n",
        "    newton_y = f(opt.newton(expression, 0), x)\n",
        "    brentq_y = f(opt.brentq(expression, -1000, 1000), x)\n",
        "    \n",
        "          \n",
        "    if brentq_y != 0:\n",
        "        x0=  f(opt.brentq(expression, -1000, 1000), x)\n",
        "        x_all.append(x0)\n",
        "        x_brent=x_all\n",
        "        y_max = max(y_max, brentq_y)\n",
        "        y_min = min(y_min, brentq_y)\n",
        "\n",
        "        plt.scatter(x, newton_y, c = 'blue', s = 7)\n",
        "    \n",
        "    if newton_y != 0:\n",
        "        x0=  f(opt.newton(expression, 0), x)\n",
        "        y_all.append(x0)\n",
        "        x_newton=y_all\n",
        "        y_max = max(y_max, newton_y)\n",
        "        y_min = min(y_min, newton_y)\n",
        "        \n",
        "        plt.scatter(x, newton_y, c = 'red', s = 7)\n",
        "        \n",
        "    if cardano_y != 0:\n",
        "        x0=  f(cardano(1, 3, x**2, 3*x**2)[0], x)\n",
        "        x__all.append(x0)\n",
        "        x_car=x__all\n",
        "        y_max = max(y_max, cardano_y)\n",
        "        y_min = min(y_min, cardano_y)\n",
        "        \n",
        "        plt.scatter(x, cardano_y, c = 'orange', s = 7)\n",
        "        \n",
        "plt.ylim(bottom = y_min * 1.25, top = y_max * 1.25)\n",
        "plt.show()\n",
        "plt.semilogy(np.abs(np.array(x_car) - np.pi), label='Cardano')\n",
        "plt.semilogy(np.abs(np.array(x_brent)  - np.pi), label='Brent')\n",
        "plt.semilogy(np.abs(np.array(x_newton) - np.pi), label='Newton')\n",
        "plt.legend()\n",
        "pass"
      ],
      "metadata": {
        "colab": {
          "base_uri": "https://localhost:8080/",
          "height": 876
        },
        "id": "-QdDJ5mmElOR",
        "outputId": "86e65bfe-6555-487e-c7ee-901a991282cc"
      },
      "execution_count": 17,
      "outputs": [
        {
          "output_type": "display_data",
          "data": {
            "text/plain": [
              "<Figure size 640x480 with 1 Axes>"
            ],
            "image/png": "[encoded data removed]"
          },
          "metadata": {}
        },
        {
          "output_type": "display_data",
          "data": {
            "text/plain": [
              "<Figure size 640x480 with 1 Axes>"
            ],
            "image/png": "[encoded data removed]"
          },
          "metadata": {}
        }
      ]
    },
    {
      "cell_type": "markdown",
      "source": [
        "Вывод:\n",
        "\n",
        "Анализируя график,можно сделать вывод, что метод Кардано делает больше ошибок при большем количестве значений на входе. А методы Брента и Ньютона делают практически одинаковое количество ошибок, но значительно меньше, чем с помощью метода Кардано."
      ],
      "metadata": {
        "id": "qH4RXGE1FJPK"
      }
    }
  ]
}